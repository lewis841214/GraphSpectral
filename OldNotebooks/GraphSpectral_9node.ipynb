{
 "cells": [
  {
   "cell_type": "code",
   "execution_count": 6,
   "metadata": {},
   "outputs": [],
   "source": [
    "import networkx as nx\n",
    "import numpy as np\n",
    "import matplotlib.pyplot as plt\n",
    "from numpy import set_printoptions\n",
    "set_printoptions(precision=3, threshold=5, edgeitems=4, suppress=True)\n",
    "\n"
   ]
  },
  {
   "cell_type": "code",
   "execution_count": 20,
   "metadata": {},
   "outputs": [],
   "source": [
    "A = np.eye(9) * 0\n",
    "edges = [[0, 1], [1, 2], [2, 0], [2,3], [3,4], [4,5], [5,3] ,[3,6] ,[ 6,7], [7,8], [6,8]]\n",
    "for edge in edges:\n",
    "    n1, n2 = edge[0], edge[1]\n",
    "    A[n1][n2] = 1\n",
    "    A[n2][n1] = 1\n",
    "G = nx.from_numpy_matrix(A)\n"
   ]
  },
  {
   "cell_type": "code",
   "execution_count": 21,
   "metadata": {},
   "outputs": [
    {
     "data": {
      "image/png": "[encoded data removed]",
      "text/plain": [
       "<Figure size 640x480 with 1 Axes>"
      ]
     },
     "metadata": {},
     "output_type": "display_data"
    }
   ],
   "source": [
    "subax1 = plt.subplot(121)\n",
    "nx.draw(G)   # default spring_layout"
   ]
  },
  {
   "cell_type": "code",
   "execution_count": 22,
   "metadata": {},
   "outputs": [
    {
     "name": "stdout",
     "output_type": "stream",
     "text": [
      "D =  [[2. 0. 0. 0. ... 0. 0. 0. 0.]\n",
      " [0. 2. 0. 0. ... 0. 0. 0. 0.]\n",
      " [0. 0. 3. 0. ... 0. 0. 0. 0.]\n",
      " [0. 0. 0. 3. ... 0. 0. 0. 0.]\n",
      " ...\n",
      " [0. 0. 0. 0. ... 2. 0. 0. 0.]\n",
      " [0. 0. 0. 0. ... 0. 3. 0. 0.]\n",
      " [0. 0. 0. 0. ... 0. 0. 2. 0.]\n",
      " [0. 0. 0. 0. ... 0. 0. 0. 2.]]\n"
     ]
    }
   ],
   "source": [
    "D = np.eye(9) * 2\n",
    "D[3][3] = 3\n",
    "D[2][2] = 3\n",
    "D[6][6] = 3\n",
    "print('D = ', D)"
   ]
  },
  {
   "cell_type": "code",
   "execution_count": 23,
   "metadata": {},
   "outputs": [
    {
     "name": "stdout",
     "output_type": "stream",
     "text": [
      "[[ 2. -1. -1.  0. ...  0.  0.  0.  0.]\n",
      " [-1.  2. -1.  0. ...  0.  0.  0.  0.]\n",
      " [-1. -1.  3. -1. ...  0.  0.  0.  0.]\n",
      " [ 0.  0. -1.  3. ... -1. -1.  0.  0.]\n",
      " ...\n",
      " [ 0.  0.  0. -1. ...  2.  0.  0.  0.]\n",
      " [ 0.  0.  0. -1. ...  0.  3. -1. -1.]\n",
      " [ 0.  0.  0.  0. ...  0. -1.  2. -1.]\n",
      " [ 0.  0.  0.  0. ...  0. -1. -1.  2.]]\n"
     ]
    }
   ],
   "source": [
    "L = D - A\n",
    "print(L)"
   ]
  },
  {
   "cell_type": "code",
   "execution_count": 24,
   "metadata": {},
   "outputs": [
    {
     "name": "stdout",
     "output_type": "stream",
     "text": [
      "[ 4.924  3.732  3.     3.    ...  2.737  0.49   0.268 -0.151] [[ 0.12   0.23  -0.707  0.094 ...  0.223  0.333 -0.444 -0.274]\n",
      " [ 0.12   0.23   0.707 -0.094 ...  0.223  0.333 -0.444 -0.274]\n",
      " [-0.47  -0.628 -0.    -0.    ... -0.388  0.17  -0.325 -0.316]\n",
      " [ 0.665 -0.     0.    -0.    ... -0.548 -0.24   0.    -0.446]\n",
      " ...\n",
      " [-0.17  -0.    -0.     0.318 ...  0.316 -0.47   0.    -0.388]\n",
      " [-0.47   0.628  0.    -0.    ... -0.388  0.17   0.325 -0.316]\n",
      " [ 0.12  -0.23  -0.    -0.624 ...  0.223  0.333  0.444 -0.274]\n",
      " [ 0.12  -0.23  -0.     0.624 ...  0.223  0.333  0.444 -0.274]]\n"
     ]
    }
   ],
   "source": [
    "lambdas , U = np.linalg.eig(L)\n",
    "\n",
    "idx = lambdas.argsort()[::-1]   \n",
    "lambdas = lambdas[idx]\n",
    "U = U[:,idx]\n",
    "print(lambdas, U)"
   ]
  },
  {
   "cell_type": "code",
   "execution_count": 25,
   "metadata": {},
   "outputs": [
    {
     "name": "stdout",
     "output_type": "stream",
     "text": [
      "U [[ 0.12   0.23  -0.707  0.094 ...  0.223  0.333 -0.444 -0.274]\n",
      " [ 0.12   0.23   0.707 -0.094 ...  0.223  0.333 -0.444 -0.274]\n",
      " [-0.47  -0.628 -0.    -0.    ... -0.388  0.17  -0.325 -0.316]\n",
      " [ 0.665 -0.     0.    -0.    ... -0.548 -0.24   0.    -0.446]\n",
      " ...\n",
      " [-0.17  -0.    -0.     0.318 ...  0.316 -0.47   0.    -0.388]\n",
      " [-0.47   0.628  0.    -0.    ... -0.388  0.17   0.325 -0.316]\n",
      " [ 0.12  -0.23  -0.    -0.624 ...  0.223  0.333  0.444 -0.274]\n",
      " [ 0.12  -0.23  -0.     0.624 ...  0.223  0.333  0.444 -0.274]]\n",
      "every column is a eigenvector\n",
      "lambdas [ 4.924  3.732  3.     3.    ...  2.737  0.49   0.268 -0.151]\n"
     ]
    }
   ],
   "source": [
    "print('U', U)\n",
    "print('every column is a eigenvector')\n",
    "\n",
    "print('lambdas', lambdas)"
   ]
  },
  {
   "cell_type": "code",
   "execution_count": 26,
   "metadata": {},
   "outputs": [
    {
     "name": "stdout",
     "output_type": "stream",
     "text": [
      "[ True False False False ...  True  True False False]\n",
      "[0.1404433971850078, 9.992007221626409e-16, 9.633119223171441e-16, 2.4424906541753444e-15, -6.4427629897778615e-15, 1.5242054583187976, 0.3896774659137263, -2.220446049250313e-16, -1.8722245713528527]\n"
     ]
    }
   ],
   "source": [
    "x = [1, 1, 0, 0, 1, 1, 0 , 1, 1]\n",
    "x = np.array(x).reshape(9, 1)\n",
    "output = U.T @ x\n",
    "print(output.reshape(-1) > 0.0001)\n",
    "print(  output.reshape(-1).tolist())"
   ]
  },
  {
   "cell_type": "code",
   "execution_count": 29,
   "metadata": {},
   "outputs": [
    {
     "ename": "ValueError",
     "evalue": "matmul: Input operand 1 has a mismatch in its core dimension 0, with gufunc signature (n?,k),(k,m?)->(n?,m?) (size 6 is different from 9)",
     "output_type": "error",
     "traceback": [
      "\u001b[1;31m---------------------------------------------------------------------------\u001b[0m",
      "\u001b[1;31mValueError\u001b[0m                                Traceback (most recent call last)",
      "\u001b[1;32mc:\\Users\\lewis\\Desktop\\1Porject\\GraphSpectral\\GraphSpectral\\GraphSpectral copy.ipynb Cell 9\u001b[0m in \u001b[0;36m<cell line: 3>\u001b[1;34m()\u001b[0m\n\u001b[0;32m      <a href='vscode-notebook-cell:/c%3A/Users/lewis/Desktop/1Porject/GraphSpectral/GraphSpectral/GraphSpectral%20copy.ipynb#ch0000008?line=0'>1</a>\u001b[0m x \u001b[39m=\u001b[39m [\u001b[39m1\u001b[39m, \u001b[39m1\u001b[39m, \u001b[39m2\u001b[39m, \u001b[39m2\u001b[39m, \u001b[39m1\u001b[39m, \u001b[39m1\u001b[39m]\n\u001b[0;32m      <a href='vscode-notebook-cell:/c%3A/Users/lewis/Desktop/1Porject/GraphSpectral/GraphSpectral/GraphSpectral%20copy.ipynb#ch0000008?line=1'>2</a>\u001b[0m x \u001b[39m=\u001b[39m np\u001b[39m.\u001b[39marray(x)\u001b[39m.\u001b[39mreshape(\u001b[39m6\u001b[39m, \u001b[39m1\u001b[39m)\n\u001b[1;32m----> <a href='vscode-notebook-cell:/c%3A/Users/lewis/Desktop/1Porject/GraphSpectral/GraphSpectral/GraphSpectral%20copy.ipynb#ch0000008?line=2'>3</a>\u001b[0m \u001b[39mprint\u001b[39m(U\u001b[39m.\u001b[39;49mT \u001b[39m@\u001b[39;49m x )\n",
      "\u001b[1;31mValueError\u001b[0m: matmul: Input operand 1 has a mismatch in its core dimension 0, with gufunc signature (n?,k),(k,m?)->(n?,m?) (size 6 is different from 9)"
     ]
    }
   ],
   "source": [
    "x = [1, 1, 2, 2, 1, 1]\n",
    "x = np.array(x).reshape(6, 1)\n",
    "print(U.T @ x )"
   ]
  },
  {
   "cell_type": "code",
   "execution_count": null,
   "metadata": {},
   "outputs": [],
   "source": []
  }
 ],
 "metadata": {
  "kernelspec": {
   "display_name": "Python 3.10.6 ('PS')",
   "language": "python",
   "name": "python3"
  },
  "language_info": {
   "codemirror_mode": {
    "name": "ipython",
    "version": 3
   },
   "file_extension": ".py",
   "mimetype": "text/x-python",
   "name": "python",
   "nbconvert_exporter": "python",
   "pygments_lexer": "ipython3",
   "version": "3.10.6"
  },
  "orig_nbformat": 4,
  "vscode": {
   "interpreter": {
    "hash": "bc0a6c2964c6d82a034cd892d84d80b0ba1f022c064fcc8e998ddb0108ad72c8"
   }
  }
 },
 "nbformat": 4,
 "nbformat_minor": 2
}
