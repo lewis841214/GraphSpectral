{
 "cells": [
  {
   "cell_type": "code",
   "execution_count": 22,
   "metadata": {},
   "outputs": [],
   "source": [
    "import networkx as nx\n",
    "import numpy as np\n",
    "import matplotlib.pyplot as plt\n",
    "from numpy import set_printoptions\n",
    "set_printoptions(precision=3, threshold=5, edgeitems=4, suppress=True)\n"
   ]
  },
  {
   "cell_type": "code",
   "execution_count": 23,
   "metadata": {},
   "outputs": [],
   "source": [
    "A = [\n",
    "    [0, 1, 1, 0, 0, 0], \n",
    "    [1, 0, 1, 0, 0, 0] , \n",
    "    [1, 1, 0, 1, 0, 0], \n",
    "    [0, 0, 1, 0, 1, 1, ], \n",
    "    [0, 0, 0, 1, 0, 1],\n",
    "    [0, 0, 0, 1, 1, 0 ]\n",
    "]\n",
    "A = np.array(A)\n",
    "G = nx.from_numpy_matrix(A)\n"
   ]
  },
  {
   "cell_type": "code",
   "execution_count": 24,
   "metadata": {},
   "outputs": [
    {
     "data": {
      "image/png": "[encoded data removed]",
      "text/plain": [
       "<Figure size 640x480 with 1 Axes>"
      ]
     },
     "metadata": {},
     "output_type": "display_data"
    }
   ],
   "source": [
    "subax1 = plt.subplot(121)\n",
    "nx.draw(G)   # default spring_layout"
   ]
  },
  {
   "cell_type": "code",
   "execution_count": 29,
   "metadata": {},
   "outputs": [
    {
     "name": "stdout",
     "output_type": "stream",
     "text": [
      "D =  [[2. 0. 0. 0. 0. 0.]\n",
      " [0. 2. 0. 0. 0. 0.]\n",
      " [0. 0. 3. 0. 0. 0.]\n",
      " [0. 0. 0. 3. 0. 0.]\n",
      " [0. 0. 0. 0. 2. 0.]\n",
      " [0. 0. 0. 0. 0. 2.]]\n"
     ]
    }
   ],
   "source": [
    "D = np.eye(6) * 2\n",
    "D[3][3] = 3\n",
    "D[2][2] = 3\n",
    "print('D = ', D)"
   ]
  },
  {
   "cell_type": "code",
   "execution_count": 30,
   "metadata": {},
   "outputs": [
    {
     "name": "stdout",
     "output_type": "stream",
     "text": [
      "[[ 2. -1. -1.  0.  0.  0.]\n",
      " [-1.  2. -1.  0.  0.  0.]\n",
      " [-1. -1.  3. -1.  0.  0.]\n",
      " [ 0.  0. -1.  3. -1. -1.]\n",
      " [ 0.  0.  0. -1.  2. -1.]\n",
      " [ 0.  0.  0. -1. -1.  2.]]\n"
     ]
    }
   ],
   "source": [
    "L = D - A\n",
    "print(L)"
   ]
  },
  {
   "cell_type": "code",
   "execution_count": 48,
   "metadata": {},
   "outputs": [
    {
     "name": "stdout",
     "output_type": "stream",
     "text": [
      "[4.562 3.    3.    3.    0.438 0.   ] [[ 0.185  0.065  0.349  0.764  0.465 -0.408]\n",
      " [ 0.185 -0.053 -0.725 -0.546  0.465 -0.408]\n",
      " [-0.657 -0.012  0.375 -0.218  0.261 -0.408]\n",
      " [ 0.657 -0.012  0.375 -0.218 -0.261 -0.408]\n",
      " [-0.185 -0.699 -0.179  0.109 -0.465 -0.408]\n",
      " [-0.185  0.71  -0.196  0.109 -0.465 -0.408]]\n"
     ]
    }
   ],
   "source": [
    "lambdas , U = np.linalg.eig(L)\n",
    "\n",
    "idx = lambdas.argsort()[::-1]   \n",
    "lambdas = lambdas[idx]\n",
    "U = U[:,idx]\n",
    "print(lambdas, U)"
   ]
  },
  {
   "cell_type": "code",
   "execution_count": 49,
   "metadata": {},
   "outputs": [
    {
     "name": "stdout",
     "output_type": "stream",
     "text": [
      "U [[ 0.185  0.065  0.349  0.764  0.465 -0.408]\n",
      " [ 0.185 -0.053 -0.725 -0.546  0.465 -0.408]\n",
      " [-0.657 -0.012  0.375 -0.218  0.261 -0.408]\n",
      " [ 0.657 -0.012  0.375 -0.218 -0.261 -0.408]\n",
      " [-0.185 -0.699 -0.179  0.109 -0.465 -0.408]\n",
      " [-0.185  0.71  -0.196  0.109 -0.465 -0.408]]\n",
      "every column is a eigenvector\n",
      "lambdas [4.562 3.    3.    3.    0.438 0.   ]\n"
     ]
    }
   ],
   "source": [
    "print('U', U)\n",
    "print('every column is a eigenvector')\n",
    "\n",
    "print('lambdas', lambdas)"
   ]
  },
  {
   "cell_type": "code",
   "execution_count": 50,
   "metadata": {},
   "outputs": [
    {
     "name": "stdout",
     "output_type": "stream",
     "text": [
      "[[-0.   ]\n",
      " [ 0.023]\n",
      " [-0.751]\n",
      " [ 0.436]\n",
      " [-0.   ]\n",
      " [-1.633]]\n"
     ]
    }
   ],
   "source": [
    "x = [1, 1, 0, 0, 1, 1]\n",
    "x = np.array(x).reshape(6, 1)\n",
    "print(U.T @ x )"
   ]
  },
  {
   "cell_type": "code",
   "execution_count": 51,
   "metadata": {},
   "outputs": [
    {
     "name": "stdout",
     "output_type": "stream",
     "text": [
      "[[ 0.   ]\n",
      " [-0.023]\n",
      " [ 0.751]\n",
      " [-0.436]\n",
      " [-0.   ]\n",
      " [-3.266]]\n"
     ]
    }
   ],
   "source": [
    "x = [1, 1, 2, 2, 1, 1]\n",
    "x = np.array(x).reshape(6, 1)\n",
    "print(U.T @ x )"
   ]
  },
  {
   "cell_type": "code",
   "execution_count": null,
   "metadata": {},
   "outputs": [],
   "source": []
  }
 ],
 "metadata": {
  "kernelspec": {
   "display_name": "Python 3.10.6 ('PS')",
   "language": "python",
   "name": "python3"
  },
  "language_info": {
   "codemirror_mode": {
    "name": "ipython",
    "version": 3
   },
   "file_extension": ".py",
   "mimetype": "text/x-python",
   "name": "python",
   "nbconvert_exporter": "python",
   "pygments_lexer": "ipython3",
   "version": "3.10.6"
  },
  "orig_nbformat": 4,
  "vscode": {
   "interpreter": {
    "hash": "bc0a6c2964c6d82a034cd892d84d80b0ba1f022c064fcc8e998ddb0108ad72c8"
   }
  }
 },
 "nbformat": 4,
 "nbformat_minor": 2
}
